{
 "cells": [
  {
   "cell_type": "code",
   "execution_count": 99,
   "metadata": {},
   "outputs": [],
   "source": [
    "import os\n",
    "import csv\n",
    "import pandas as pd\n",
    "import sklearn\n",
    "from sklearn.metrics import average_precision_score"
   ]
  },
  {
   "cell_type": "code",
   "execution_count": 100,
   "metadata": {},
   "outputs": [],
   "source": [
    "df = pd.read_csv('train_pruned_sr.csv')\n",
    "df_test = pd.read_csv('test_pruned_sr.csv')"
   ]
  },
  {
   "cell_type": "code",
   "execution_count": 101,
   "metadata": {},
   "outputs": [],
   "source": [
    "df.columns = ['Company_Name','Document_id','start_word_pos','end_word_pos','label','company_id','first_name_company','issubstring', 'inFileName', 'hasBased', 'has_apostrophe_s', 'has_shares','has_desig', 'has_said']\n",
    "df_test.columns = ['Company_Name','Document_id','start_word_pos','end_word_pos','label','company_id','first_name_company','issubstring', 'inFileName', 'hasBased', 'has_apostrophe_s','has_shares', 'has_desig', 'has_said']"
   ]
  },
  {
   "cell_type": "code",
   "execution_count": 102,
   "metadata": {
    "scrolled": true
   },
   "outputs": [],
   "source": [
    "df1 = df[['Company_Name','Document_id','start_word_pos','end_word_pos', 'company_id','first_name_company','issubstring', 'inFileName', 'hasBased', 'has_apostrophe_s','has_shares', 'has_desig', 'has_said','label']]\n",
    "df_test1 = df_test[['Company_Name','Document_id','start_word_pos','end_word_pos', 'company_id','first_name_company','issubstring', 'inFileName', 'hasBased', 'has_apostrophe_s','has_shares', 'has_desig', 'has_said','label']]"
   ]
  },
  {
   "cell_type": "code",
   "execution_count": 103,
   "metadata": {},
   "outputs": [],
   "source": [
    "df2 = df1.drop(columns=['Company_Name','Document_id'])\n",
    "df_test2 = df_test1.drop(columns=['Company_Name','Document_id'])"
   ]
  },
  {
   "cell_type": "code",
   "execution_count": 143,
   "metadata": {},
   "outputs": [],
   "source": [
    "from sklearn.model_selection import train_test_split\n",
    "train_dat,test_dat=train_test_split(df2, test_size=0.1)\n",
    "y = train_dat.label.values\n",
    "ytest = test_dat.label.values\n",
    "xtrain = train_dat.drop('label',axis=1).values\n",
    "xtest = test_dat.drop('label',axis=1).values"
   ]
  },
  {
   "cell_type": "code",
   "execution_count": 144,
   "metadata": {},
   "outputs": [
    {
     "data": {
      "text/plain": [
       "SVC(C=1.0, cache_size=200, class_weight={0: 2}, coef0=0.0,\n",
       "  decision_function_shape='ovr', degree=3, gamma='auto', kernel='rbf',\n",
       "  max_iter=-1, probability=False, random_state=None, shrinking=True,\n",
       "  tol=0.001, verbose=False)"
      ]
     },
     "execution_count": 144,
     "metadata": {},
     "output_type": "execute_result"
    }
   ],
   "source": [
    "from sklearn import svm\n",
    "clf = svm.SVC(kernel='rbf',class_weight={0:2})\n",
    "clf.fit(xtrain,y)"
   ]
  },
  {
   "cell_type": "code",
   "execution_count": 145,
   "metadata": {},
   "outputs": [],
   "source": [
    "ypred = clf.predict(xtest)\n",
    "from sklearn.metrics import precision_score\n",
    "from sklearn.metrics import recall_score\n"
   ]
  },
  {
   "cell_type": "code",
   "execution_count": 146,
   "metadata": {},
   "outputs": [
    {
     "name": "stdout",
     "output_type": "stream",
     "text": [
      "0.9349593495934959\n"
     ]
    }
   ],
   "source": [
    "print precision_score(ytest,ypred)"
   ]
  },
  {
   "cell_type": "code",
   "execution_count": 147,
   "metadata": {},
   "outputs": [
    {
     "data": {
      "text/plain": [
       "0.7467532467532467"
      ]
     },
     "execution_count": 147,
     "metadata": {},
     "output_type": "execute_result"
    }
   ],
   "source": [
    "recall_score(ytest,ypred)"
   ]
  },
  {
   "cell_type": "code",
   "execution_count": 148,
   "metadata": {},
   "outputs": [],
   "source": [
    "y_testing = df_test2.label.values\n",
    "x_testing = df_test2.drop('label',axis=1).values"
   ]
  },
  {
   "cell_type": "code",
   "execution_count": 149,
   "metadata": {},
   "outputs": [],
   "source": [
    "y_prediction = clf.predict(x_testing)"
   ]
  },
  {
   "cell_type": "code",
   "execution_count": 150,
   "metadata": {},
   "outputs": [
    {
     "name": "stdout",
     "output_type": "stream",
     "text": [
      "0.9247863247863248\n"
     ]
    }
   ],
   "source": [
    "print precision_score(y_testing,y_prediction)"
   ]
  },
  {
   "cell_type": "code",
   "execution_count": 151,
   "metadata": {},
   "outputs": [
    {
     "name": "stdout",
     "output_type": "stream",
     "text": [
      "0.7044270833333334\n"
     ]
    }
   ],
   "source": [
    "print recall_score(y_testing,y_prediction)"
   ]
  }
 ],
 "metadata": {
  "kernelspec": {
   "display_name": "Python 2",
   "language": "python",
   "name": "python2"
  },
  "language_info": {
   "codemirror_mode": {
    "name": "ipython",
    "version": 2
   },
   "file_extension": ".py",
   "mimetype": "text/x-python",
   "name": "python",
   "nbconvert_exporter": "python",
   "pygments_lexer": "ipython2",
   "version": "2.7.14"
  }
 },
 "nbformat": 4,
 "nbformat_minor": 2
}
