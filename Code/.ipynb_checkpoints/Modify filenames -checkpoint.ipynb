{
 "cells": [
  {
   "cell_type": "code",
   "execution_count": 2,
   "metadata": {},
   "outputs": [],
   "source": [
    "import os"
   ]
  },
  {
   "cell_type": "code",
   "execution_count": 3,
   "metadata": {},
   "outputs": [],
   "source": [
    "directory_path=r\"C:\\Users\\rahul\\Desktop\\CLASS\\Data Science\\Code\\cs839-project\\Dataset\\Rahul\\Final\""
   ]
  },
  {
   "cell_type": "code",
   "execution_count": 17,
   "metadata": {},
   "outputs": [],
   "source": [
    "dirs = os.listdir(directory_path)\n",
    "count=0\n",
    "for dir in dirs:\n",
    "    '''path_name = '{:003d}'.format(count)\n",
    "    path_name = os.path.join(directory_path,path_name +\".\" + dir)\n",
    "    old_path = os.path.join(directory_path,dir)    \n",
    "    os.rename(old_path,path_name)\n",
    "    count=count+1'''\n",
    "    path_name = os.path.join(directory_path,dir + \".txt\")\n",
    "    old_path = os.path.join(directory_path,dir)\n",
    "    os.rename(old_path,path_name)"
   ]
  },
  {
   "cell_type": "code",
   "execution_count": null,
   "metadata": {},
   "outputs": [],
   "source": []
  }
 ],
 "metadata": {
  "kernelspec": {
   "display_name": "Python 3",
   "language": "python",
   "name": "python3"
  },
  "language_info": {
   "codemirror_mode": {
    "name": "ipython",
    "version": 3
   },
   "file_extension": ".py",
   "mimetype": "text/x-python",
   "name": "python",
   "nbconvert_exporter": "python",
   "pygments_lexer": "ipython3",
   "version": "3.5.2"
  }
 },
 "nbformat": 4,
 "nbformat_minor": 2
}
