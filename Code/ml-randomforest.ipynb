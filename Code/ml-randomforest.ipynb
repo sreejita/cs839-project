{
 "cells": [
  {
   "cell_type": "code",
   "execution_count": 37,
   "metadata": {},
   "outputs": [],
   "source": [
    "import os\n",
    "import csv\n",
    "import pandas as pd\n",
    "import sklearn\n",
    "from sklearn.ensemble import RandomForestClassifier"
   ]
  },
  {
   "cell_type": "code",
   "execution_count": 38,
   "metadata": {},
   "outputs": [],
   "source": [
    "df = pd.read_csv('train_pruned_sr.csv')\n",
    "df_test = pd.read_csv('test_pruned_sr.csv')"
   ]
  },
  {
   "cell_type": "code",
   "execution_count": 39,
   "metadata": {},
   "outputs": [],
   "source": [
    "df.columns = ['Company_Name','Document_id','start_word_pos','end_word_pos','label','company_id','first_name_company','issubstring', 'inFileName', 'hasBased', 'has_apostrophe_s','has_shares', 'has_desig', 'has_said']\n",
    "df_test.columns = ['Company_Name','Document_id','start_word_pos','end_word_pos','label','company_id','first_name_company','issubstring', 'inFileName', 'hasBased', 'has_apostrophe_s','has_shares', 'has_desig', 'has_said']"
   ]
  },
  {
   "cell_type": "code",
   "execution_count": 40,
   "metadata": {
    "scrolled": true
   },
   "outputs": [],
   "source": [
    "df1 = df[['Company_Name','Document_id','start_word_pos','end_word_pos', 'company_id','first_name_company','issubstring', 'inFileName', 'hasBased', 'has_apostrophe_s', 'has_shares','has_desig', 'has_said','label']]\n",
    "df_test1 = df_test[['Company_Name','Document_id','start_word_pos','end_word_pos', 'company_id','first_name_company','issubstring', 'inFileName', 'hasBased', 'has_apostrophe_s','has_shares', 'has_desig', 'has_said','label']]"
   ]
  },
  {
   "cell_type": "code",
   "execution_count": 41,
   "metadata": {},
   "outputs": [],
   "source": [
    "df2 = df1.drop(columns=['Company_Name','Document_id'])\n",
    "df_test2 = df_test1.drop(columns=['Company_Name','Document_id'])"
   ]
  },
  {
   "cell_type": "code",
   "execution_count": 63,
   "metadata": {},
   "outputs": [
    {
     "data": {
      "text/plain": [
       "RandomForestClassifier(bootstrap=True, class_weight=None, criterion='gini',\n",
       "            max_depth=5, max_features='auto', max_leaf_nodes=None,\n",
       "            min_impurity_decrease=0.0, min_impurity_split=None,\n",
       "            min_samples_leaf=1, min_samples_split=2,\n",
       "            min_weight_fraction_leaf=0.0, n_estimators=10, n_jobs=1,\n",
       "            oob_score=False, random_state=0, verbose=0, warm_start=False)"
      ]
     },
     "execution_count": 63,
     "metadata": {},
     "output_type": "execute_result"
    }
   ],
   "source": [
    "from sklearn.model_selection import train_test_split\n",
    "train_dat,test_dat=train_test_split(df2, test_size=0.1)\n",
    "y = train_dat.label.values\n",
    "ytest = test_dat.label.values\n",
    "xtrain = train_dat.drop('label',axis=1).values\n",
    "xtest = test_dat.drop('label',axis=1).values\n",
    "clf = RandomForestClassifier(max_depth=5, random_state=0)\n",
    "clf.fit(xtrain,y)"
   ]
  },
  {
   "cell_type": "code",
   "execution_count": 64,
   "metadata": {},
   "outputs": [],
   "source": [
    "ypred = clf.predict(xtest)\n",
    "from sklearn.metrics import precision_score\n",
    "from sklearn.metrics import recall_score"
   ]
  },
  {
   "cell_type": "code",
   "execution_count": 65,
   "metadata": {},
   "outputs": [
    {
     "name": "stdout",
     "output_type": "stream",
     "text": [
      "0.9281045751633987\n"
     ]
    }
   ],
   "source": [
    "print precision_score(ytest,ypred)"
   ]
  },
  {
   "cell_type": "code",
   "execution_count": 66,
   "metadata": {},
   "outputs": [
    {
     "name": "stdout",
     "output_type": "stream",
     "text": [
      "0.8930817610062893\n"
     ]
    }
   ],
   "source": [
    "print recall_score(ytest,ypred)"
   ]
  },
  {
   "cell_type": "code",
   "execution_count": 67,
   "metadata": {},
   "outputs": [],
   "source": [
    "y_testing = df_test2.label.values\n",
    "x_testing = df_test2.drop('label',axis=1).values\n",
    "y_prediction = clf.predict(x_testing)"
   ]
  },
  {
   "cell_type": "code",
   "execution_count": 68,
   "metadata": {},
   "outputs": [
    {
     "name": "stdout",
     "output_type": "stream",
     "text": [
      "0.8318240620957309\n"
     ]
    }
   ],
   "source": [
    "print precision_score(y_testing,y_prediction)"
   ]
  },
  {
   "cell_type": "code",
   "execution_count": 69,
   "metadata": {},
   "outputs": [
    {
     "name": "stdout",
     "output_type": "stream",
     "text": [
      "0.8856749311294766\n"
     ]
    }
   ],
   "source": [
    "print recall_score(y_testing,y_prediction)"
   ]
  },
  {
   "cell_type": "code",
   "execution_count": null,
   "metadata": {},
   "outputs": [],
   "source": []
  }
 ],
 "metadata": {
  "kernelspec": {
   "display_name": "Python 2",
   "language": "python",
   "name": "python2"
  },
  "language_info": {
   "codemirror_mode": {
    "name": "ipython",
    "version": 2
   },
   "file_extension": ".py",
   "mimetype": "text/x-python",
   "name": "python",
   "nbconvert_exporter": "python",
   "pygments_lexer": "ipython2",
   "version": "2.7.14"
  }
 },
 "nbformat": 4,
 "nbformat_minor": 2
}
