{
 "cells": [
  {
   "cell_type": "code",
   "execution_count": 487,
   "metadata": {},
   "outputs": [],
   "source": [
    "import os\n",
    "import csv\n",
    "import pandas as pd\n",
    "import sklearn\n",
    "from sklearn import linear_model\n",
    "from sklearn.metrics import average_precision_score"
   ]
  },
  {
   "cell_type": "code",
   "execution_count": 488,
   "metadata": {},
   "outputs": [],
   "source": [
    "df = pd.read_csv('train_pruned_sr.csv')\n",
    "df_test = pd.read_csv('test_pruned_sr.csv')"
   ]
  },
  {
   "cell_type": "code",
   "execution_count": 489,
   "metadata": {},
   "outputs": [],
   "source": [
    "df.columns = ['Company_Name','Document_id','start_word_pos','end_word_pos','label','company_id','first_name_company','issubstring', 'inFileName', 'hasBased', 'has_apostrophe_s', 'has_shares','has_desig', 'has_said']\n",
    "df_test.columns = ['Company_Name','Document_id','start_word_pos','end_word_pos','label','company_id','first_name_company','issubstring', 'inFileName', 'hasBased', 'has_apostrophe_s', 'has_shares','has_desig', 'has_said']"
   ]
  },
  {
   "cell_type": "code",
   "execution_count": 490,
   "metadata": {
    "scrolled": true
   },
   "outputs": [],
   "source": [
    "df1 = df[['Company_Name','Document_id','start_word_pos','end_word_pos', 'company_id','first_name_company','issubstring', 'inFileName', 'hasBased', 'has_apostrophe_s', 'has_shares','has_desig', 'has_said','label']]\n",
    "df_test1 = df_test[['Company_Name','Document_id','start_word_pos','end_word_pos', 'company_id','first_name_company','issubstring', 'inFileName', 'hasBased', 'has_apostrophe_s','has_shares', 'has_desig', 'has_said','label']]"
   ]
  },
  {
   "cell_type": "code",
   "execution_count": 508,
   "metadata": {},
   "outputs": [],
   "source": [
    "df2 = df1.drop(columns=['Company_Name','Document_id'])\n",
    "df_test2 = df_test1.drop(columns=['Company_Name','Document_id'])"
   ]
  },
  {
   "cell_type": "code",
   "execution_count": 555,
   "metadata": {},
   "outputs": [
    {
     "data": {
      "text/plain": [
       "LinearRegression(copy_X=True, fit_intercept=True, n_jobs=1, normalize=False)"
      ]
     },
     "execution_count": 555,
     "metadata": {},
     "output_type": "execute_result"
    }
   ],
   "source": [
    "from sklearn.model_selection import train_test_split\n",
    "train_dat,test_dat=train_test_split(df2, test_size=0.1)\n",
    "y = train_dat.label.values\n",
    "ytest = test_dat.label.values\n",
    "xtrain = train_dat.drop('label',axis=1).values\n",
    "xtest = test_dat.drop('label',axis=1).values\n",
    "clf = linear_model.LinearRegression()\n",
    "clf.fit(xtrain,y)"
   ]
  },
  {
   "cell_type": "code",
   "execution_count": 556,
   "metadata": {},
   "outputs": [],
   "source": [
    "ypred = clf.predict(xtest)\n",
    "from sklearn.metrics import precision_score\n",
    "from sklearn.metrics import recall_score"
   ]
  },
  {
   "cell_type": "code",
   "execution_count": 557,
   "metadata": {},
   "outputs": [
    {
     "name": "stdout",
     "output_type": "stream",
     "text": [
      "0.9097222222222222\n"
     ]
    }
   ],
   "source": [
    "print precision_score(ytest,ypred.round())"
   ]
  },
  {
   "cell_type": "code",
   "execution_count": 558,
   "metadata": {},
   "outputs": [
    {
     "name": "stdout",
     "output_type": "stream",
     "text": [
      "0.8343949044585988\n"
     ]
    }
   ],
   "source": [
    "print recall_score(ytest,ypred.round())"
   ]
  },
  {
   "cell_type": "code",
   "execution_count": 559,
   "metadata": {},
   "outputs": [],
   "source": [
    "y_testing = df_test2.label.values\n",
    "x_testing = df_test2.drop('label',axis=1).values\n",
    "y_prediction = clf.predict(x_testing)"
   ]
  },
  {
   "cell_type": "code",
   "execution_count": 560,
   "metadata": {},
   "outputs": [
    {
     "name": "stdout",
     "output_type": "stream",
     "text": [
      "0.9089635854341737\n"
     ]
    }
   ],
   "source": [
    "print precision_score(y_testing,y_prediction.round())"
   ]
  },
  {
   "cell_type": "code",
   "execution_count": 561,
   "metadata": {},
   "outputs": [
    {
     "name": "stdout",
     "output_type": "stream",
     "text": [
      "0.8450520833333334\n"
     ]
    }
   ],
   "source": [
    "print recall_score(y_testing,y_prediction.round())"
   ]
  },
  {
   "cell_type": "code",
   "execution_count": null,
   "metadata": {},
   "outputs": [],
   "source": []
  }
 ],
 "metadata": {
  "kernelspec": {
   "display_name": "Python 2",
   "language": "python",
   "name": "python2"
  },
  "language_info": {
   "codemirror_mode": {
    "name": "ipython",
    "version": 2
   },
   "file_extension": ".py",
   "mimetype": "text/x-python",
   "name": "python",
   "nbconvert_exporter": "python",
   "pygments_lexer": "ipython2",
   "version": "2.7.14"
  }
 },
 "nbformat": 4,
 "nbformat_minor": 2
}
