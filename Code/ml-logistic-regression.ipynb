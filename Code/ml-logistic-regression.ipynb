{
 "cells": [
  {
   "cell_type": "code",
   "execution_count": 127,
   "metadata": {},
   "outputs": [],
   "source": [
    "import os\n",
    "import csv\n",
    "import pandas as pd\n",
    "import sklearn\n",
    "from sklearn.metrics import average_precision_score\n",
    "from sklearn import linear_model"
   ]
  },
  {
   "cell_type": "code",
   "execution_count": 128,
   "metadata": {},
   "outputs": [],
   "source": [
    "df = pd.read_csv('train_pruned_sr.csv')\n",
    "df_test = pd.read_csv('test_pruned_sr.csv')"
   ]
  },
  {
   "cell_type": "code",
   "execution_count": 129,
   "metadata": {},
   "outputs": [],
   "source": [
    "df.columns = ['Company_Name','Document_id','start_word_pos','end_word_pos','label','company_id','first_name_company','issubstring', 'inFileName', 'hasBased', 'has_apostrophe_s', 'has_shares', 'has_desig', 'has_said']\n",
    "df_test.columns = ['Company_Name','Document_id','start_word_pos','end_word_pos','label','company_id','first_name_company','issubstring', 'inFileName', 'hasBased', 'has_apostrophe_s', 'has_shares','has_desig', 'has_said']"
   ]
  },
  {
   "cell_type": "code",
   "execution_count": 130,
   "metadata": {
    "scrolled": true
   },
   "outputs": [],
   "source": [
    "df1 = df[['Company_Name','Document_id','start_word_pos','end_word_pos', 'company_id','first_name_company','issubstring', 'inFileName', 'hasBased', 'has_apostrophe_s','has_shares', 'has_desig', 'has_said','label']]\n",
    "df_test1 = df_test[['Company_Name','Document_id','start_word_pos','end_word_pos', 'company_id','first_name_company','issubstring', 'inFileName', 'hasBased', 'has_apostrophe_s','has_shares', 'has_desig', 'has_said','label']]"
   ]
  },
  {
   "cell_type": "code",
   "execution_count": 139,
   "metadata": {},
   "outputs": [],
   "source": [
    "df2 = df1.drop(columns=['Company_Name','Document_id'])\n",
    "df_test2 = df_test1.drop(columns=['Company_Name','Document_id'])"
   ]
  },
  {
   "cell_type": "code",
   "execution_count": 205,
   "metadata": {},
   "outputs": [
    {
     "data": {
      "text/plain": [
       "LogisticRegression(C=1.0, class_weight=None, dual=False, fit_intercept=True,\n",
       "          intercept_scaling=1, max_iter=100, multi_class='ovr', n_jobs=1,\n",
       "          penalty='l2', random_state=None, solver='liblinear', tol=0.0001,\n",
       "          verbose=0, warm_start=False)"
      ]
     },
     "execution_count": 205,
     "metadata": {},
     "output_type": "execute_result"
    }
   ],
   "source": [
    "from sklearn.model_selection import train_test_split\n",
    "train_dat,test_dat=train_test_split(df2, test_size=0.1)\n",
    "y = train_dat.label.values\n",
    "ytest = test_dat.label.values\n",
    "xtrain = train_dat.drop('label',axis=1).values\n",
    "xtest = test_dat.drop('label',axis=1).values\n",
    "clf = linear_model.LogisticRegression()\n",
    "clf.fit(xtrain,y)"
   ]
  },
  {
   "cell_type": "code",
   "execution_count": 206,
   "metadata": {},
   "outputs": [],
   "source": [
    "ypred = clf.predict(xtest)\n",
    "from sklearn.metrics import precision_score\n",
    "from sklearn.metrics import recall_score"
   ]
  },
  {
   "cell_type": "code",
   "execution_count": 207,
   "metadata": {},
   "outputs": [
    {
     "name": "stdout",
     "output_type": "stream",
     "text": [
      "0.8741721854304636\n"
     ]
    }
   ],
   "source": [
    "print precision_score(ytest,ypred)"
   ]
  },
  {
   "cell_type": "code",
   "execution_count": 208,
   "metadata": {},
   "outputs": [
    {
     "name": "stdout",
     "output_type": "stream",
     "text": [
      "0.8918918918918919\n"
     ]
    }
   ],
   "source": [
    "print recall_score(ytest,ypred)"
   ]
  },
  {
   "cell_type": "code",
   "execution_count": 209,
   "metadata": {},
   "outputs": [],
   "source": [
    "y_testing = df_test2.label.values\n",
    "x_testing = df_test2.drop('label',axis=1).values\n",
    "y_prediction = clf.predict(x_testing)"
   ]
  },
  {
   "cell_type": "code",
   "execution_count": 210,
   "metadata": {},
   "outputs": [
    {
     "name": "stdout",
     "output_type": "stream",
     "text": [
      "0.9087136929460581\n"
     ]
    }
   ],
   "source": [
    "print precision_score(y_testing,y_prediction)"
   ]
  },
  {
   "cell_type": "code",
   "execution_count": 211,
   "metadata": {},
   "outputs": [
    {
     "name": "stdout",
     "output_type": "stream",
     "text": [
      "0.85546875\n"
     ]
    }
   ],
   "source": [
    "print recall_score(y_testing,y_prediction)"
   ]
  },
  {
   "cell_type": "code",
   "execution_count": null,
   "metadata": {},
   "outputs": [],
   "source": []
  }
 ],
 "metadata": {
  "kernelspec": {
   "display_name": "Python 2",
   "language": "python",
   "name": "python2"
  },
  "language_info": {
   "codemirror_mode": {
    "name": "ipython",
    "version": 2
   },
   "file_extension": ".py",
   "mimetype": "text/x-python",
   "name": "python",
   "nbconvert_exporter": "python",
   "pygments_lexer": "ipython2",
   "version": "2.7.14"
  }
 },
 "nbformat": 4,
 "nbformat_minor": 2
}
